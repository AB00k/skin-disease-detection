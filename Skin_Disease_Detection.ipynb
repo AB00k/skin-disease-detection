{
  "nbformat": 4,
  "nbformat_minor": 0,
  "metadata": {
    "colab": {
      "provenance": []
    },
    "kernelspec": {
      "name": "python3",
      "display_name": "Python 3"
    },
    "language_info": {
      "name": "python"
    }
  },
  "cells": [
    {
      "cell_type": "code",
      "source": [
        "!pip install tflite-runtime"
      ],
      "metadata": {
        "colab": {
          "base_uri": "https://localhost:8080/"
        },
        "id": "rJGEvVn4Hxq3",
        "outputId": "6a95dfc7-af22-403e-db01-2074bb72a7c6"
      },
      "execution_count": 2,
      "outputs": [
        {
          "output_type": "stream",
          "name": "stdout",
          "text": [
            "Collecting tflite-runtime\n",
            "  Downloading tflite_runtime-2.14.0-cp311-cp311-manylinux2014_x86_64.whl.metadata (1.4 kB)\n",
            "Requirement already satisfied: numpy>=1.23.2 in /usr/local/lib/python3.11/dist-packages (from tflite-runtime) (2.0.2)\n",
            "Downloading tflite_runtime-2.14.0-cp311-cp311-manylinux2014_x86_64.whl (2.4 MB)\n",
            "\u001b[2K   \u001b[90m━━━━━━━━━━━━━━━━━━━━━━━━━━━━━━━━━━━━━━━━\u001b[0m \u001b[32m2.4/2.4 MB\u001b[0m \u001b[31m22.4 MB/s\u001b[0m eta \u001b[36m0:00:00\u001b[0m\n",
            "\u001b[?25hInstalling collected packages: tflite-runtime\n",
            "Successfully installed tflite-runtime-2.14.0\n"
          ]
        }
      ]
    },
    {
      "cell_type": "code",
      "source": [
        "%pip install numpy==1.26.4 --force-reinstall"
      ],
      "metadata": {
        "colab": {
          "base_uri": "https://localhost:8080/"
        },
        "id": "2wadM1NYIHdP",
        "outputId": "a9d3fcb0-9a81-437d-fff4-baa61000ef1f"
      },
      "execution_count": 7,
      "outputs": [
        {
          "output_type": "stream",
          "name": "stdout",
          "text": [
            "Collecting numpy==1.26.4\n",
            "  Downloading numpy-1.26.4-cp311-cp311-manylinux_2_17_x86_64.manylinux2014_x86_64.whl.metadata (61 kB)\n",
            "\u001b[2K     \u001b[90m━━━━━━━━━━━━━━━━━━━━━━━━━━━━━━━━━━━━━━━━\u001b[0m \u001b[32m61.0/61.0 kB\u001b[0m \u001b[31m2.6 MB/s\u001b[0m eta \u001b[36m0:00:00\u001b[0m\n",
            "\u001b[?25hDownloading numpy-1.26.4-cp311-cp311-manylinux_2_17_x86_64.manylinux2014_x86_64.whl (18.3 MB)\n",
            "\u001b[2K   \u001b[90m━━━━━━━━━━━━━━━━━━━━━━━━━━━━━━━━━━━━━━━━\u001b[0m \u001b[32m18.3/18.3 MB\u001b[0m \u001b[31m95.3 MB/s\u001b[0m eta \u001b[36m0:00:00\u001b[0m\n",
            "\u001b[?25hInstalling collected packages: numpy\n",
            "  Attempting uninstall: numpy\n",
            "    Found existing installation: numpy 2.0.2\n",
            "    Uninstalling numpy-2.0.2:\n",
            "      Successfully uninstalled numpy-2.0.2\n",
            "\u001b[31mERROR: pip's dependency resolver does not currently take into account all the packages that are installed. This behaviour is the source of the following dependency conflicts.\n",
            "thinc 8.3.6 requires numpy<3.0.0,>=2.0.0, but you have numpy 1.26.4 which is incompatible.\u001b[0m\u001b[31m\n",
            "\u001b[0mSuccessfully installed numpy-1.26.4\n"
          ]
        }
      ]
    },
    {
      "cell_type": "code",
      "execution_count": 1,
      "metadata": {
        "id": "0LwAa5m1GDkF"
      },
      "outputs": [],
      "source": [
        "import numpy as np\n",
        "from PIL import Image\n",
        "import tflite_runtime.interpreter as tflite\n",
        "\n",
        "# HAM10000 label map\n",
        "HAM10000_LABELS = {\n",
        "    0: \"Actinic keratoses (akiec)\",\n",
        "    1: \"Basal cell carcinoma (bcc)\",\n",
        "    2: \"Benign keratosis-like lesions (bkl)\",\n",
        "    3: \"Dermatofibroma (df)\",\n",
        "    4: \"Melanoma (mel)\",\n",
        "    5: \"Melanocytic nevi (nv)\",\n",
        "    6: \"Vascular lesions (vasc)\"\n",
        "}\n",
        "\n",
        "def load_and_preprocess_image(image_path, target_size=(224, 224)):\n",
        "    image = Image.open(image_path).convert('RGB')\n",
        "    image = image.resize(target_size)\n",
        "    image_array = np.asarray(image, dtype=np.float32) / 255.0  # Normalize\n",
        "    return np.expand_dims(image_array, axis=0)  # Shape: (1, 224, 224, 3)\n",
        "\n",
        "def run_skin_disease_model(model_path, image_path, label_map=HAM10000_LABELS):\n",
        "    # Load and preprocess image\n",
        "    input_data = load_and_preprocess_image(image_path)\n",
        "\n",
        "    # Load the TFLite model and allocate tensors\n",
        "    interpreter = tflite.Interpreter(model_path=model_path)\n",
        "    interpreter.allocate_tensors()\n",
        "\n",
        "    # Get input and output tensor info\n",
        "    input_details = interpreter.get_input_details()\n",
        "    output_details = interpreter.get_output_details()\n",
        "\n",
        "    # Set the input tensor\n",
        "    interpreter.set_tensor(input_details[0]['index'], input_data)\n",
        "    interpreter.invoke()\n",
        "\n",
        "    # Get the output tensor\n",
        "    output_data = interpreter.get_tensor(output_details[0]['index'])  # Shape: (1, 7)\n",
        "    predicted_class = int(np.argmax(output_data))\n",
        "    confidence = float(np.max(output_data))\n",
        "\n",
        "    return {\n",
        "        \"class_id\": predicted_class,\n",
        "        \"label\": label_map[predicted_class],\n",
        "        \"confidence\": confidence\n",
        "    }\n"
      ]
    },
    {
      "cell_type": "code",
      "source": [
        "result = run_skin_disease_model(\"/content/model.tflite\", \"/content/Image_Editor.png\")\n",
        "print(f\"Prediction: {result['label']}\")\n",
        "print(f\"Confidence: {result['confidence']:.2f}\")"
      ],
      "metadata": {
        "colab": {
          "base_uri": "https://localhost:8080/"
        },
        "id": "ROS-yZ7fHor1",
        "outputId": "093a123c-60c4-4519-ec01-2afadb759dd1"
      },
      "execution_count": 2,
      "outputs": [
        {
          "output_type": "stream",
          "name": "stdout",
          "text": [
            "Prediction: Melanoma (mel)\n",
            "Confidence: 0.77\n"
          ]
        }
      ]
    },
    {
      "cell_type": "code",
      "source": [],
      "metadata": {
        "id": "51G62qacH2NI"
      },
      "execution_count": null,
      "outputs": []
    }
  ]
}